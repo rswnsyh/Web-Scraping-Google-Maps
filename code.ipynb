{
 "cells": [
  {
   "cell_type": "code",
   "execution_count": 1,
   "metadata": {},
   "outputs": [],
   "source": [
    "from selenium import webdriver\n",
    "from time import sleep\n",
    "import pandas as pd\n",
    "import openpyxl\n",
    "import numpy as np"
   ]
  },
  {
   "cell_type": "code",
   "execution_count": 2,
   "metadata": {},
   "outputs": [],
   "source": [
    "#Array penampung data\n",
    "data_jalan = []\n",
    "data_waktu = []\n",
    "data_jarak = []"
   ]
  },
  {
   "cell_type": "code",
   "execution_count": 3,
   "metadata": {},
   "outputs": [],
   "source": [
    "def scrap_gmaps (point_0, point_1) :\n",
    "    #Click tombol Direction\n",
    "    sleep(3)\n",
    "    direction_button = driver.find_element_by_xpath(\"/html/body/div[3]/div[9]/div[3]/div[1]/div[1]/div[1]/div[2]/div[2]/div/button\")\n",
    "    direction_button.click()\n",
    "\n",
    "    #Mencari jarak dan waktu antara 2 titik\n",
    "    sleep(3)\n",
    "    widget = driver.find_element_by_class_name(\"widget-directions\")\n",
    "\n",
    "    alamat = widget.find_element_by_xpath(\"/html/body/div[3]/div[9]/div[3]/div[1]/div[2]/div/div[3]/div[1]/div[1]/div[2]/div/div/input\")\n",
    "    alamat.send_keys(point_0)\n",
    "\n",
    "    tujuan = widget.find_element_by_xpath(\"/html/body/div[3]/div[9]/div[3]/div[1]/div[2]/div/div[3]/div[1]/div[2]/div[2]/div/div/input\")\n",
    "    tujuan.send_keys(point_1)\n",
    "\n",
    "    sleep(2)\n",
    "    search_button = widget.find_element_by_xpath(\"/html/body/div[3]/div[9]/div[3]/div[1]/div[2]/div/div[3]/div[1]/div[2]/div[2]/button[1]\")\n",
    "    search_button.click()\n",
    "\n",
    "    sleep(4)\n",
    "    #Mengambil data jalan yang dilalui, waktu, jarak\n",
    "    jalan = driver.find_element_by_xpath(\"/html/body/div[3]/div[9]/div[9]/div/div/div[1]/div[2]/div/div[1]/div/div/div[4]/div[1]/div[1]/div[1]/div[2]/h1[1]/span\").text\n",
    "    melalui = \"melalui \"+jalan \n",
    "\n",
    "    waktu = driver.find_element_by_xpath(\"/html/body/div[3]/div[9]/div[9]/div/div/div[1]/div[2]/div/div[1]/div/div/div[4]/div[1]/div[1]/div[1]/div[1]/div[1]/span[1]\").text\n",
    "\n",
    "    jarak = driver.find_element_by_xpath(\"/html/body/div[3]/div[9]/div[9]/div/div/div[1]/div[2]/div/div[1]/div/div/div[4]/div[1]/div[1]/div[1]/div[1]/div[2]/div\").text\n",
    "    \n",
    "    #Masukin data\n",
    "    data_jalan.append(melalui)\n",
    "    data_waktu.append(waktu)\n",
    "    data_jarak.append(jarak)\n",
    "    "
   ]
  },
  {
   "cell_type": "code",
   "execution_count": 4,
   "metadata": {},
   "outputs": [
    {
     "name": "stdout",
     "output_type": "stream",
     "text": [
      "['Jarak dari Blok M Square, Jakarta ke Monas, Jakarta'\n",
      " 'melalui Jl. Jenderal Sudirman' '38 mnt' '11,2 km']\n",
      "['Jarak dari Plaza Semanggi, Jakarta ke Monas, Jakarta'\n",
      " 'melalui Jl. Jenderal Sudirman' '29 mnt' '7,3 km']\n",
      "['Jarak dari Mall of Indonesia, Jakarta ke Monas, Jakarta'\n",
      " 'melalui Jl. Yos Sudarso dan Jl. Letjen Suprapto/Jl. Raya Pantura'\n",
      " '31 mnt' '9,9 km']\n",
      "['Jarak dari Pondok Indah Mall, Jakarta ke Monas, Jakarta'\n",
      " 'melalui Jl. Arteri Pd. Indah' '47 mnt' '14,8 km']\n",
      "['Jarak dari PIK Avanue, Jakarta ke Monas, Jakarta'\n",
      " 'melalui Jl. Tol Dalam Kota' '43 mnt' '20,1 km']\n"
     ]
    }
   ],
   "source": [
    "#Buka Google Maps\n",
    "path = \"C:\\Program Files (x86)\\chromedriver.exe\"\n",
    "driver = webdriver.Chrome(path)\n",
    "driver.get(\"https://maps.google.com\")\n",
    "\n",
    "dari = [\"Blok M Square, Jakarta\", \"Plaza Semanggi, Jakarta\", \"Mall of Indonesia, Jakarta\", \"Pondok Indah Mall, Jakarta\", \"PIK Avanue, Jakarta\"]\n",
    "kemana = \"Monas, jakarta\"\n",
    "\n",
    "for i in range (len(dari)):\n",
    "    #Panggil fungsi ambil data maps\n",
    "    scrap_gmaps(dari[i], kemana)\n",
    "    sleep(3)\n",
    "\n",
    "    #Tutup Widget Direction\n",
    "    close_direction = driver.find_element_by_xpath(\"/html/body/div[3]/div[9]/div[3]/div[1]/div[2]/div/div[2]/div/button/div\")\n",
    "    close_direction.click()\n",
    "    \n",
    "    dari[i] = \"Jarak dari \" + dari[i] + \" ke \" + \"Monas, Jakarta\"\n",
    "    \n",
    "\n",
    "result = np.zeros((4,5), dtype=object)\n",
    "\n",
    "result[0,:] = dari\n",
    "result[1,:] = data_jalan\n",
    "result[2,:] = data_waktu\n",
    "result[3,:] = data_jarak\n",
    "\n",
    "for i in range (len(result[0,:])):\n",
    "    print(result[:,i])"
   ]
  }
 ],
 "metadata": {
  "kernelspec": {
   "display_name": "Python 3 (ipykernel)",
   "language": "python",
   "name": "python3"
  },
  "language_info": {
   "codemirror_mode": {
    "name": "ipython",
    "version": 3
   },
   "file_extension": ".py",
   "mimetype": "text/x-python",
   "name": "python",
   "nbconvert_exporter": "python",
   "pygments_lexer": "ipython3",
   "version": "3.9.12"
  }
 },
 "nbformat": 4,
 "nbformat_minor": 4
}
